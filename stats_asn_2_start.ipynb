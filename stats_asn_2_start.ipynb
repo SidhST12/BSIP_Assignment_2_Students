{
 "cells": [
  {
   "cell_type": "code",
   "execution_count": 34,
   "metadata": {},
   "outputs": [],
   "source": [
    "#import thinkplot\n",
    "#import thinkstats2\n",
    "import pandas as pd\n",
    "import numpy as np\n",
    "import math\n",
    "import scipy.stats as ss\n",
    "import thinkplot\n",
    "import thinkstats2\n",
    "\n",
    "##Seaborn for fancy plots. \n",
    "import matplotlib.pyplot as plt\n",
    "import seaborn as sns\n",
    "plt.rcParams[\"figure.figsize\"] = (15,5)"
   ]
  },
  {
   "cell_type": "code",
   "execution_count": 35,
   "metadata": {},
   "outputs": [],
   "source": [
    "#chapter-10"
   ]
  },
  {
   "cell_type": "markdown",
   "metadata": {},
   "source": [
    "<h1>Assignment 2: Life Expectancy and You!</h1>\n",
    "\n",
    "<b>Instructions:</b>\n",
    "<ul>\n",
    "<li>Use the worksheet below to act as a guide to exploring and examining the data in the dataset.\n",
    "<li>Try to make things easy to read. Look at the formatting stuff above. \n",
    "<li>As long as you do what is asked, you can do things in many different ways. You may need to do a little searching. \n",
    "</ul>\n",
    "\n",
    "### Please Use Formatting to Make it Clear What I Should be Looking at! Please!!! I Beg You!!!"
   ]
  },
  {
   "cell_type": "code",
   "execution_count": 36,
   "metadata": {},
   "outputs": [
    {
     "data": {
      "text/html": [
       "<div>\n",
       "<style scoped>\n",
       "    .dataframe tbody tr th:only-of-type {\n",
       "        vertical-align: middle;\n",
       "    }\n",
       "\n",
       "    .dataframe tbody tr th {\n",
       "        vertical-align: top;\n",
       "    }\n",
       "\n",
       "    .dataframe thead th {\n",
       "        text-align: right;\n",
       "    }\n",
       "</style>\n",
       "<table border=\"1\" class=\"dataframe\">\n",
       "  <thead>\n",
       "    <tr style=\"text-align: right;\">\n",
       "      <th></th>\n",
       "      <th>Country</th>\n",
       "      <th>isDeveloped</th>\n",
       "      <th>Lifeexpectancy</th>\n",
       "      <th>AdultMortality</th>\n",
       "      <th>infantdeaths</th>\n",
       "      <th>Alcohol</th>\n",
       "      <th>HepatitisB</th>\n",
       "      <th>Measles</th>\n",
       "      <th>BMI</th>\n",
       "      <th>under-fivedeaths</th>\n",
       "      <th>Polio</th>\n",
       "      <th>Diphtheria</th>\n",
       "      <th>GDP</th>\n",
       "      <th>Population</th>\n",
       "      <th>Schooling</th>\n",
       "    </tr>\n",
       "  </thead>\n",
       "  <tbody>\n",
       "    <tr>\n",
       "      <th>0</th>\n",
       "      <td>Afghanistan</td>\n",
       "      <td>0.0</td>\n",
       "      <td>58.19375</td>\n",
       "      <td>269.0625</td>\n",
       "      <td>78.2500</td>\n",
       "      <td>0.014375</td>\n",
       "      <td>64.562500</td>\n",
       "      <td>2362.2500</td>\n",
       "      <td>15.51875</td>\n",
       "      <td>107.5625</td>\n",
       "      <td>48.3750</td>\n",
       "      <td>52.3125</td>\n",
       "      <td>340.015425</td>\n",
       "      <td>9.972260e+06</td>\n",
       "      <td>8.21250</td>\n",
       "    </tr>\n",
       "    <tr>\n",
       "      <th>1</th>\n",
       "      <td>Albania</td>\n",
       "      <td>0.0</td>\n",
       "      <td>75.15625</td>\n",
       "      <td>45.0625</td>\n",
       "      <td>0.6875</td>\n",
       "      <td>4.848750</td>\n",
       "      <td>98.000000</td>\n",
       "      <td>53.3750</td>\n",
       "      <td>49.06875</td>\n",
       "      <td>0.9375</td>\n",
       "      <td>98.1250</td>\n",
       "      <td>98.0625</td>\n",
       "      <td>2119.726679</td>\n",
       "      <td>6.969116e+05</td>\n",
       "      <td>12.13750</td>\n",
       "    </tr>\n",
       "    <tr>\n",
       "      <th>2</th>\n",
       "      <td>Algeria</td>\n",
       "      <td>0.0</td>\n",
       "      <td>73.61875</td>\n",
       "      <td>108.1875</td>\n",
       "      <td>20.3125</td>\n",
       "      <td>0.406667</td>\n",
       "      <td>78.000000</td>\n",
       "      <td>1943.8750</td>\n",
       "      <td>48.74375</td>\n",
       "      <td>23.5000</td>\n",
       "      <td>91.7500</td>\n",
       "      <td>91.8750</td>\n",
       "      <td>2847.853392</td>\n",
       "      <td>2.164983e+07</td>\n",
       "      <td>12.71250</td>\n",
       "    </tr>\n",
       "    <tr>\n",
       "      <th>3</th>\n",
       "      <td>Angola</td>\n",
       "      <td>0.0</td>\n",
       "      <td>49.01875</td>\n",
       "      <td>328.5625</td>\n",
       "      <td>83.7500</td>\n",
       "      <td>5.740667</td>\n",
       "      <td>70.222222</td>\n",
       "      <td>3561.3125</td>\n",
       "      <td>18.01875</td>\n",
       "      <td>132.6250</td>\n",
       "      <td>46.1250</td>\n",
       "      <td>47.6875</td>\n",
       "      <td>1975.143045</td>\n",
       "      <td>1.014710e+07</td>\n",
       "      <td>8.04375</td>\n",
       "    </tr>\n",
       "    <tr>\n",
       "      <th>4</th>\n",
       "      <td>AntiguaandBarbuda</td>\n",
       "      <td>0.0</td>\n",
       "      <td>75.05625</td>\n",
       "      <td>127.5000</td>\n",
       "      <td>0.0000</td>\n",
       "      <td>7.949333</td>\n",
       "      <td>98.266667</td>\n",
       "      <td>0.0000</td>\n",
       "      <td>38.42500</td>\n",
       "      <td>0.0000</td>\n",
       "      <td>96.9375</td>\n",
       "      <td>98.3125</td>\n",
       "      <td>9759.305728</td>\n",
       "      <td>NaN</td>\n",
       "      <td>8.84375</td>\n",
       "    </tr>\n",
       "  </tbody>\n",
       "</table>\n",
       "</div>"
      ],
      "text/plain": [
       "             Country  isDeveloped  Lifeexpectancy  AdultMortality  \\\n",
       "0        Afghanistan          0.0        58.19375        269.0625   \n",
       "1            Albania          0.0        75.15625         45.0625   \n",
       "2            Algeria          0.0        73.61875        108.1875   \n",
       "3             Angola          0.0        49.01875        328.5625   \n",
       "4  AntiguaandBarbuda          0.0        75.05625        127.5000   \n",
       "\n",
       "   infantdeaths   Alcohol  HepatitisB    Measles       BMI  under-fivedeaths  \\\n",
       "0       78.2500  0.014375   64.562500  2362.2500  15.51875          107.5625   \n",
       "1        0.6875  4.848750   98.000000    53.3750  49.06875            0.9375   \n",
       "2       20.3125  0.406667   78.000000  1943.8750  48.74375           23.5000   \n",
       "3       83.7500  5.740667   70.222222  3561.3125  18.01875          132.6250   \n",
       "4        0.0000  7.949333   98.266667     0.0000  38.42500            0.0000   \n",
       "\n",
       "     Polio  Diphtheria          GDP    Population  Schooling  \n",
       "0  48.3750     52.3125   340.015425  9.972260e+06    8.21250  \n",
       "1  98.1250     98.0625  2119.726679  6.969116e+05   12.13750  \n",
       "2  91.7500     91.8750  2847.853392  2.164983e+07   12.71250  \n",
       "3  46.1250     47.6875  1975.143045  1.014710e+07    8.04375  \n",
       "4  96.9375     98.3125  9759.305728           NaN    8.84375  "
      ]
     },
     "execution_count": 36,
     "metadata": {},
     "output_type": "execute_result"
    }
   ],
   "source": [
    "#Load data and do some cleanup before starting\n",
    "#Please don't change this stuff. \n",
    "dfLE = pd.read_csv(\"led.csv\")\n",
    "dfLE.rename(columns={\"Status\":\"isDeveloped\", }, inplace=True)\n",
    "dfLE[\"isDeveloped\"].replace(('Developed', 'Developing'), (1, 0.0), inplace=True)\n",
    "dfLE = dfLE.drop(columns={\"Year\", \"Incomecompositionofresources\", \"thinness5-9years\", \"HIV/AIDS\", \"percentageexpenditure\", \"Totalexpenditure\", \"thinness1-19years\"})\n",
    "dfLE = dfLE.groupby(\"Country\", as_index=False).mean()\n",
    "\n",
    "dfLE.head()\n"
   ]
  },
  {
   "cell_type": "markdown",
   "metadata": {},
   "source": [
    "<h2>Part 1: Add a column for GDP per Capita (5pts)</h2>\n",
    "\n",
    "Show print the labels along with just that column. Print 10 random rows of that data. \n",
    "\n",
    "Note: you'll have to look at the units to ensure you get it right. "
   ]
  },
  {
   "cell_type": "code",
   "execution_count": 37,
   "metadata": {},
   "outputs": [],
   "source": [
    "\n",
    "dfLE['GDP_per_Capita'] = (dfLE['GDP'] / dfLE['Population'])"
   ]
  },
  {
   "cell_type": "code",
   "execution_count": 38,
   "metadata": {},
   "outputs": [],
   "source": [
    "#df_s=df_s[~np.isnan(df_s)]\n",
    "#dfLE=dfLE[~np.isnan(dfLE)]"
   ]
  },
  {
   "cell_type": "code",
   "execution_count": null,
   "metadata": {},
   "outputs": [],
   "source": []
  },
  {
   "cell_type": "code",
   "execution_count": 39,
   "metadata": {},
   "outputs": [
    {
     "data": {
      "text/plain": [
       "0    0.000034\n",
       "1    0.003042\n",
       "2    0.000132\n",
       "3    0.000195\n",
       "4         NaN\n",
       "5    0.000348\n",
       "6    0.001970\n",
       "7    0.007551\n",
       "8    0.005224\n",
       "9    0.001531\n",
       "Name: GDP_per_Capita, dtype: float64"
      ]
     },
     "execution_count": 39,
     "metadata": {},
     "output_type": "execute_result"
    }
   ],
   "source": [
    "dfLE['GDP_per_Capita'].head(10)"
   ]
  },
  {
   "cell_type": "code",
   "execution_count": 40,
   "metadata": {},
   "outputs": [
    {
     "data": {
      "text/plain": [
       "0    0.000034\n",
       "1    0.003042\n",
       "2    0.000132\n",
       "3    0.000195\n",
       "5    0.000348\n",
       "Name: GDP_per_Capita, dtype: float64"
      ]
     },
     "execution_count": 40,
     "metadata": {},
     "output_type": "execute_result"
    }
   ],
   "source": [
    "#age_new=df[\"Age\"]\n",
    "#age_new= age_new[~np.isnan(age_new)]\n",
    "#age_new\n",
    "df_p=dfLE[\"GDP_per_Capita\"]\n",
    "df_p=df_p[~np.isnan(df_p)]\n",
    "df_p.head()\n"
   ]
  },
  {
   "cell_type": "markdown",
   "metadata": {},
   "source": [
    "### Part 2: Print a visualization of each distribution. Both regular (density) and cumulative. (15pts)\n",
    "\n",
    "Print each distribution is some type of visualization, also print the cumulative distribution. \n",
    "<ul>\n",
    "<li>5 points are for using some visualization that is effective.\n",
    "<li>5 points for formatting things in a nice layout. Hint: for whatever chart you use, look into some formatting options. Think of what to try to Google for an example for printing multiple charts, a grid of charts, etc... and try to adapt one to yours. There is also a way to do it using some thinkstats/thinkplot stuff. \n",
    "<li><b>5 points are for doing it in an efficient way - just listing off each column is lots of typing... Remember, the #1 trait of programmers is laziness with respect to repetitive tasks. If we are doing the same thing over and over with tiny changes, try to think of a condensed way to do this...</b>\n",
    "</ul>"
   ]
  },
  {
   "cell_type": "code",
   "execution_count": 41,
   "metadata": {},
   "outputs": [],
   "source": [
    "#Graph\n",
    "#hist2 = thinkstats2.Hist(round(dfEL))\n",
    "hist2 = thinkstats2.Hist(df_p)\n",
    "pmf2 = thinkstats2.Pmf(df_p)\n",
    "cdf2 = thinkstats2.Cdf(df_p)"
   ]
  },
  {
   "cell_type": "code",
   "execution_count": 42,
   "metadata": {},
   "outputs": [
    {
     "data": {
      "image/png": "[encoded data removed]",
      "text/plain": [
       "<Figure size 1152x720 with 6 Axes>"
      ]
     },
     "metadata": {
      "needs_background": "light"
     },
     "output_type": "display_data"
    }
   ],
   "source": [
    "#Print all distributions\n",
    "#Create graphs\n",
    "thinkplot.PrePlot(6, rows =2, cols=3)\n",
    "thinkplot.Hist(hist2)\n",
    "thinkplot.SubPlot(2)\n",
    "thinkplot.Pmf(pmf2)\n",
    "thinkplot.SubPlot(3)\n",
    "thinkplot.Cdf(cdf2)\n",
    "thinkplot.SubPlot(4)\n",
    "thinkstats2.NormalProbabilityPlot(df_p)\n",
    "thinkplot.SubPlot(5)\n",
    "thinkstats2.NormalProbabilityPlot(np.log(df_p))\n",
    "thinkplot.SubPlot(6)\n",
    "pdf = thinkstats2.EstimatedPdf(df_p) #See more below\n",
    "thinkplot.Pdf(pdf)\n",
    "thinkplot.Config()"
   ]
  },
  {
   "cell_type": "markdown",
   "metadata": {},
   "source": [
    "### Create an analytical distribution for SCHOOLING, and use it for a couple of things. (20pts)\n",
    "\n",
    "<ul>\n",
    "<li>5 points are for choosing an appropriate distribution. Please state it clearly somewhere.\n",
    "<li>10 points are for creating and visualizing the distribution. Do it <b>without</b> using a fit() method. Plot the emperical data on the same graph as the analytical distribution. \n",
    "<li>5 points are for using the distribution to predict the percentage of that have a schooling level within 1 year of Canada. \n",
    "</ul>"
   ]
  },
  {
   "cell_type": "code",
   "execution_count": 43,
   "metadata": {},
   "outputs": [
    {
     "data": {
      "text/html": [
       "<div>\n",
       "<style scoped>\n",
       "    .dataframe tbody tr th:only-of-type {\n",
       "        vertical-align: middle;\n",
       "    }\n",
       "\n",
       "    .dataframe tbody tr th {\n",
       "        vertical-align: top;\n",
       "    }\n",
       "\n",
       "    .dataframe thead th {\n",
       "        text-align: right;\n",
       "    }\n",
       "</style>\n",
       "<table border=\"1\" class=\"dataframe\">\n",
       "  <thead>\n",
       "    <tr style=\"text-align: right;\">\n",
       "      <th></th>\n",
       "      <th>Country</th>\n",
       "      <th>isDeveloped</th>\n",
       "      <th>Lifeexpectancy</th>\n",
       "      <th>AdultMortality</th>\n",
       "      <th>infantdeaths</th>\n",
       "      <th>Alcohol</th>\n",
       "      <th>HepatitisB</th>\n",
       "      <th>Measles</th>\n",
       "      <th>BMI</th>\n",
       "      <th>under-fivedeaths</th>\n",
       "      <th>Polio</th>\n",
       "      <th>Diphtheria</th>\n",
       "      <th>GDP</th>\n",
       "      <th>Population</th>\n",
       "      <th>Schooling</th>\n",
       "      <th>GDP_per_Capita</th>\n",
       "    </tr>\n",
       "  </thead>\n",
       "  <tbody>\n",
       "    <tr>\n",
       "      <th>0</th>\n",
       "      <td>Afghanistan</td>\n",
       "      <td>0.0</td>\n",
       "      <td>58.19375</td>\n",
       "      <td>269.0625</td>\n",
       "      <td>78.2500</td>\n",
       "      <td>0.014375</td>\n",
       "      <td>64.562500</td>\n",
       "      <td>2362.2500</td>\n",
       "      <td>15.51875</td>\n",
       "      <td>107.5625</td>\n",
       "      <td>48.3750</td>\n",
       "      <td>52.3125</td>\n",
       "      <td>340.015425</td>\n",
       "      <td>9.972260e+06</td>\n",
       "      <td>8.21250</td>\n",
       "      <td>0.000034</td>\n",
       "    </tr>\n",
       "    <tr>\n",
       "      <th>1</th>\n",
       "      <td>Albania</td>\n",
       "      <td>0.0</td>\n",
       "      <td>75.15625</td>\n",
       "      <td>45.0625</td>\n",
       "      <td>0.6875</td>\n",
       "      <td>4.848750</td>\n",
       "      <td>98.000000</td>\n",
       "      <td>53.3750</td>\n",
       "      <td>49.06875</td>\n",
       "      <td>0.9375</td>\n",
       "      <td>98.1250</td>\n",
       "      <td>98.0625</td>\n",
       "      <td>2119.726679</td>\n",
       "      <td>6.969116e+05</td>\n",
       "      <td>12.13750</td>\n",
       "      <td>0.003042</td>\n",
       "    </tr>\n",
       "    <tr>\n",
       "      <th>2</th>\n",
       "      <td>Algeria</td>\n",
       "      <td>0.0</td>\n",
       "      <td>73.61875</td>\n",
       "      <td>108.1875</td>\n",
       "      <td>20.3125</td>\n",
       "      <td>0.406667</td>\n",
       "      <td>78.000000</td>\n",
       "      <td>1943.8750</td>\n",
       "      <td>48.74375</td>\n",
       "      <td>23.5000</td>\n",
       "      <td>91.7500</td>\n",
       "      <td>91.8750</td>\n",
       "      <td>2847.853392</td>\n",
       "      <td>2.164983e+07</td>\n",
       "      <td>12.71250</td>\n",
       "      <td>0.000132</td>\n",
       "    </tr>\n",
       "    <tr>\n",
       "      <th>3</th>\n",
       "      <td>Angola</td>\n",
       "      <td>0.0</td>\n",
       "      <td>49.01875</td>\n",
       "      <td>328.5625</td>\n",
       "      <td>83.7500</td>\n",
       "      <td>5.740667</td>\n",
       "      <td>70.222222</td>\n",
       "      <td>3561.3125</td>\n",
       "      <td>18.01875</td>\n",
       "      <td>132.6250</td>\n",
       "      <td>46.1250</td>\n",
       "      <td>47.6875</td>\n",
       "      <td>1975.143045</td>\n",
       "      <td>1.014710e+07</td>\n",
       "      <td>8.04375</td>\n",
       "      <td>0.000195</td>\n",
       "    </tr>\n",
       "    <tr>\n",
       "      <th>4</th>\n",
       "      <td>AntiguaandBarbuda</td>\n",
       "      <td>0.0</td>\n",
       "      <td>75.05625</td>\n",
       "      <td>127.5000</td>\n",
       "      <td>0.0000</td>\n",
       "      <td>7.949333</td>\n",
       "      <td>98.266667</td>\n",
       "      <td>0.0000</td>\n",
       "      <td>38.42500</td>\n",
       "      <td>0.0000</td>\n",
       "      <td>96.9375</td>\n",
       "      <td>98.3125</td>\n",
       "      <td>9759.305728</td>\n",
       "      <td>NaN</td>\n",
       "      <td>8.84375</td>\n",
       "      <td>NaN</td>\n",
       "    </tr>\n",
       "  </tbody>\n",
       "</table>\n",
       "</div>"
      ],
      "text/plain": [
       "             Country  isDeveloped  Lifeexpectancy  AdultMortality  \\\n",
       "0        Afghanistan          0.0        58.19375        269.0625   \n",
       "1            Albania          0.0        75.15625         45.0625   \n",
       "2            Algeria          0.0        73.61875        108.1875   \n",
       "3             Angola          0.0        49.01875        328.5625   \n",
       "4  AntiguaandBarbuda          0.0        75.05625        127.5000   \n",
       "\n",
       "   infantdeaths   Alcohol  HepatitisB    Measles       BMI  under-fivedeaths  \\\n",
       "0       78.2500  0.014375   64.562500  2362.2500  15.51875          107.5625   \n",
       "1        0.6875  4.848750   98.000000    53.3750  49.06875            0.9375   \n",
       "2       20.3125  0.406667   78.000000  1943.8750  48.74375           23.5000   \n",
       "3       83.7500  5.740667   70.222222  3561.3125  18.01875          132.6250   \n",
       "4        0.0000  7.949333   98.266667     0.0000  38.42500            0.0000   \n",
       "\n",
       "     Polio  Diphtheria          GDP    Population  Schooling  GDP_per_Capita  \n",
       "0  48.3750     52.3125   340.015425  9.972260e+06    8.21250        0.000034  \n",
       "1  98.1250     98.0625  2119.726679  6.969116e+05   12.13750        0.003042  \n",
       "2  91.7500     91.8750  2847.853392  2.164983e+07   12.71250        0.000132  \n",
       "3  46.1250     47.6875  1975.143045  1.014710e+07    8.04375        0.000195  \n",
       "4  96.9375     98.3125  9759.305728           NaN    8.84375             NaN  "
      ]
     },
     "execution_count": 43,
     "metadata": {},
     "output_type": "execute_result"
    }
   ],
   "source": [
    "dfLE.head()"
   ]
  },
  {
   "cell_type": "code",
   "execution_count": 51,
   "metadata": {},
   "outputs": [],
   "source": [
    "#Analytical for Schooling\n",
    "dfs=dfLE[\"Schooling\"]\n",
    "dfs=dfs[~np.isnan(dfs)]\n",
    "\n",
    "#out_78=df[df[\"Earnings_1978\"]<20000]\n",
    "#outl_78=out_78[out_78[\"Earnings_1978\"]>5000]\n",
    "\n",
    "\n"
   ]
  },
  {
   "cell_type": "code",
   "execution_count": 45,
   "metadata": {},
   "outputs": [],
   "source": [
    "def bigGraph(df_in, columnName,rnd=0):\n",
    "    data = pd.Series(df_in[columnName])\n",
    "    hist = thinkstats2.Hist(round(data, rnd))\n",
    "    pmf = thinkstats2.Pmf(data)\n",
    "    cdf = thinkstats2.Cdf(data)\n",
    "    pdf = thinkstats2.EstimatedPdf(data) #See more below\n",
    "\n",
    "    thinkplot.PrePlot(6, rows =2, cols=3)\n",
    "    thinkplot.SubPlot(1, title=\"Hist\")\n",
    "    thinkplot.Hist(hist)\n",
    "    thinkplot.SubPlot(2, title=\"PMF\")\n",
    "    thinkplot.Pmf(pmf)\n",
    "    thinkplot.SubPlot(3, title=\"CDF\")\n",
    "    thinkplot.Cdf(cdf)\n",
    "    thinkplot.SubPlot(4, title=\"Prob Plot\")\n",
    "    thinkstats2.NormalProbabilityPlot(data)\n",
    "    thinkplot.SubPlot(5, title=\"Log PP\")\n",
    "    thinkstats2.NormalProbabilityPlot(np.log(data))\n",
    "    thinkplot.SubPlot(6, title=\"PDF\")\n",
    "    thinkplot.Pdf(pdf)\n",
    "    \n",
    "    thinkplot.Config()\n",
    "    return"
   ]
  },
  {
   "cell_type": "code",
   "execution_count": 46,
   "metadata": {},
   "outputs": [
    {
     "data": {
      "text/plain": [
       "<AxesSubplot:xlabel='Schooling', ylabel='Count'>"
      ]
     },
     "execution_count": 46,
     "metadata": {},
     "output_type": "execute_result"
    },
    {
     "data": {
      "image/png": "[encoded data removed]",
      "text/plain": [
       "<Figure size 1080x360 with 1 Axes>"
      ]
     },
     "metadata": {
      "needs_background": "light"
     },
     "output_type": "display_data"
    }
   ],
   "source": [
    "sns.histplot(dfs)"
   ]
  },
  {
   "cell_type": "code",
   "execution_count": 47,
   "metadata": {},
   "outputs": [
    {
     "name": "stderr",
     "output_type": "stream",
     "text": [
      "c:\\Users\\shikh\\anaconda3\\lib\\site-packages\\seaborn\\distributions.py:2619: FutureWarning: `distplot` is a deprecated function and will be removed in a future version. Please adapt your code to use either `displot` (a figure-level function with similar flexibility) or `histplot` (an axes-level function for histograms).\n",
      "  warnings.warn(msg, FutureWarning)\n"
     ]
    },
    {
     "data": {
      "text/plain": [
       "<AxesSubplot:xlabel='Schooling', ylabel='Density'>"
      ]
     },
     "execution_count": 47,
     "metadata": {},
     "output_type": "execute_result"
    },
    {
     "data": {
      "image/png": "[encoded data removed]",
      "text/plain": [
       "<Figure size 1080x360 with 1 Axes>"
      ]
     },
     "metadata": {
      "needs_background": "light"
     },
     "output_type": "display_data"
    }
   ],
   "source": [
    "\n",
    "sns.distplot(dfs)"
   ]
  },
  {
   "cell_type": "markdown",
   "metadata": {},
   "source": [
    "### Part 3: Create another analytical distribution for GDP per Capita (20pts)\n",
    "\n",
    "<ul>\n",
    "<li>5 points are for choosing an appropriate distribution. Please state it clearly somewhere.\n",
    "<li>10 points are for creating and visualizing it alongside the emperical. You have free reign on how. \n",
    "<li>5 points are for using the analytical distribution to evaluate the quality of your GDP per capita metric - does it appear accurate? Why or why not?\n",
    "<li>If you've judged GDP per cap to be unreliable, drop it. \n",
    "</ul>"
   ]
  },
  {
   "cell_type": "code",
   "execution_count": 48,
   "metadata": {},
   "outputs": [],
   "source": [
    "#Analytical for GDP/capita"
   ]
  },
  {
   "cell_type": "markdown",
   "metadata": {},
   "source": [
    "### Part 4: Visually identify correlations. Separate developed and not developed countries is some way. (15pts)\n",
    "\n",
    "<ul>\n",
    "<li>5 points are for effectively and clearly showing the visualizations used to evaluate correlations.\n",
    "<li>10 points are for, in the process of visualizing, remove outliers that confound correlations. List outlier \"filters\" you used and justify why - was the data an error, a real value that is just way out of line, or somethingn else? Remember, you're trying to find things that have correlations with each other. Looking at a correlation between home size and income may not benefit from Jeff Bezos being included. It may be helpful to look at the results and revise. \n",
    "</ul>"
   ]
  },
  {
   "cell_type": "code",
   "execution_count": 49,
   "metadata": {},
   "outputs": [],
   "source": [
    "#Visualize correlations. "
   ]
  },
  {
   "cell_type": "markdown",
   "metadata": {},
   "source": [
    "### Part 5: Calculate correlations (25pts)\n",
    "\n",
    "<ul>\n",
    "<li>5 points are for identifying and calculating 3 strongest correlations with life expectancy for each of developed and not developed. \n",
    "<li>10 points are for analyzing those correlations. Do they appear to be supported by reality? Do you have reason to beleive any are causal?\n",
    "<li>10 points are for identifying 2 places where developing and developed countries have a substantially different relationship with respect to life expectancy, and theorizing why. What would be needed to confirm your thoughts?\n",
    "</ul>\n",
    "\n",
    "<b>Please put your written parts in markdown cells, with a little formatting to make them readable. "
   ]
  },
  {
   "cell_type": "code",
   "execution_count": 50,
   "metadata": {},
   "outputs": [],
   "source": [
    "#Calculate correlations and analyze. "
   ]
  }
 ],
 "metadata": {
  "kernelspec": {
   "display_name": "Python 3.9.12 ('base')",
   "language": "python",
   "name": "python3"
  },
  "language_info": {
   "codemirror_mode": {
    "name": "ipython",
    "version": 3
   },
   "file_extension": ".py",
   "mimetype": "text/x-python",
   "name": "python",
   "nbconvert_exporter": "python",
   "pygments_lexer": "ipython3",
   "version": "3.9.12"
  },
  "orig_nbformat": 4,
  "vscode": {
   "interpreter": {
    "hash": "ac84c186c3977d3f3331649749bf53276a5c5befb029be0bc359ac378ed9e33b"
   }
  }
 },
 "nbformat": 4,
 "nbformat_minor": 2
}
